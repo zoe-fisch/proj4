{
 "cells": [
  {
   "cell_type": "markdown",
   "metadata": {
    "id": "Jdq4D0X0WLlJ"
   },
   "source": [
    "# Introduction to Google Colab, Jupyter Notebooks, and NumPy\n",
    "\n",
    "This is a Google Colab Notebook which serves as an introduction to running Jupyter Notebooks in Colab. It also introduces Python's NumPy library."
   ]
  },
  {
   "cell_type": "markdown",
   "metadata": {
    "id": "sLm-8E6KjYdR"
   },
   "source": [
    "*NOTE: It may be helpful to click 'View' -> 'Collapse Sections' in the bar at the top left of the page.*"
   ]
  },
  {
   "cell_type": "markdown",
   "metadata": {
    "id": "H7NYFK7vI569"
   },
   "source": [
    "## Colab and Jupyter Notebooks\n",
    "\n",
    "The document you're looking at is a **Google Colab** which is a technology developed by Google, based on Jupyter Notebook, that allows you to interactively run Python through a web browser.\n",
    "\n",
    "Each cell is either text or code. Read the text, and then run the code blocks by cursoring over the top left of a code block and pressing the play button. Output from each code block will show up below each code cell."
   ]
  },
  {
   "cell_type": "code",
   "execution_count": 1,
   "metadata": {
    "colab": {
     "base_uri": "https://localhost:8080/"
    },
    "executionInfo": {
     "elapsed": 557,
     "status": "ok",
     "timestamp": 1731475357706,
     "user": {
      "displayName": "Xiaoxiao Du",
      "userId": "14628540445372521466"
     },
     "user_tz": 300
    },
    "id": "EtqVFXxYMYwF",
    "outputId": "c261f51e-e132-449f-f653-a38290d2a9c0"
   },
   "outputs": [
    {
     "name": "stdout",
     "output_type": "stream",
     "text": [
      "Hello World!\n"
     ]
    }
   ],
   "source": [
    "# <-- click the play button over there!\n",
    "\n",
    "# Make sure you see the output below this block before moving on\n",
    "print(\"Hello World!\")"
   ]
  },
  {
   "cell_type": "markdown",
   "metadata": {
    "id": "N-CmKIEFMdSb"
   },
   "source": [
    "Variables from each code block are stored so you'll have them when you run the next block. Re-running a code block will replace the data in the cell. Importantly, if you run run blocks out of order, you may run into errors relating to some variables not being defined.\n",
    "\n",
    "This next cell defines a variable `x`. Once you run it, `x` will be available in any cell run _after_ this one runs. Try running it now."
   ]
  },
  {
   "cell_type": "code",
   "execution_count": 2,
   "metadata": {
    "executionInfo": {
     "elapsed": 10,
     "status": "ok",
     "timestamp": 1731475358102,
     "user": {
      "displayName": "Xiaoxiao Du",
      "userId": "14628540445372521466"
     },
     "user_tz": 300
    },
    "id": "bWsgSIGRXDIj"
   },
   "outputs": [],
   "source": [
    "x = 102"
   ]
  },
  {
   "cell_type": "markdown",
   "metadata": {
    "id": "louHvoTCXlMl"
   },
   "source": [
    "If you ran the above cell, it will now be available if you run this next cell:\n",
    "\n"
   ]
  },
  {
   "cell_type": "code",
   "execution_count": 3,
   "metadata": {
    "colab": {
     "base_uri": "https://localhost:8080/"
    },
    "executionInfo": {
     "elapsed": 10,
     "status": "ok",
     "timestamp": 1731475358102,
     "user": {
      "displayName": "Xiaoxiao Du",
      "userId": "14628540445372521466"
     },
     "user_tz": 300
    },
    "id": "e_H8MNQNXqQQ",
    "outputId": "0ef01c2a-2e20-45fb-d29a-7ab5186c398f"
   },
   "outputs": [
    {
     "name": "stdout",
     "output_type": "stream",
     "text": [
      "x = 102\n"
     ]
    }
   ],
   "source": [
    "print(\"x =\", x)"
   ]
  },
  {
   "cell_type": "markdown",
   "metadata": {
    "id": "Rt8ehz7oXJbh"
   },
   "source": [
    "Try changing `x` above. If you re-run the last cell (the one that prints `x`), `x` will _not_ change. This is because you did not execute the code that sets the value of `x`.\n",
    "\n",
    "Go back and run the cell where `x` is defined. Now the last cell will print the updated value.\n",
    "\n",
    "Alright, that should be all you need to know for this notebook. Let's learn some NumPy!"
   ]
  },
  {
   "cell_type": "markdown",
   "metadata": {
    "id": "dzNng6vCL9eP"
   },
   "source": [
    "## Introduction to NumPy\n"
   ]
  },
  {
   "cell_type": "markdown",
   "metadata": {
    "id": "fY12nHhyL9hX"
   },
   "source": [
    "Numpy is the core library for scientific computing in Python. It provides a high-performance multidimensional array (referred to as a \"numpy array\" or \"np array\"), and optimized tools for working with these arrays."
   ]
  },
  {
   "cell_type": "markdown",
   "metadata": {
    "id": "lZMyAdqhL9hY"
   },
   "source": [
    "To use Numpy, we first need to import the `numpy` package:"
   ]
  },
  {
   "cell_type": "code",
   "execution_count": 4,
   "metadata": {
    "executionInfo": {
     "elapsed": 9,
     "status": "ok",
     "timestamp": 1731475358102,
     "user": {
      "displayName": "Xiaoxiao Du",
      "userId": "14628540445372521466"
     },
     "user_tz": 300
    },
    "id": "58QdX8BLL9hZ"
   },
   "outputs": [],
   "source": [
    "import numpy as np"
   ]
  },
  {
   "cell_type": "markdown",
   "metadata": {
    "id": "F1a0DgcA_jGE"
   },
   "source": [
    "This follows the usual python syntax for importing libraries and will allow us to access objects and functions from numpy using the prefix `np.`."
   ]
  },
  {
   "cell_type": "markdown",
   "metadata": {
    "id": "DDx6v1EdL9hb"
   },
   "source": [
    "##Array Basics"
   ]
  },
  {
   "cell_type": "markdown",
   "metadata": {
    "id": "f-Zv3f7LL9hc"
   },
   "source": [
    "On the most basic level, we can think of numpy arrays like lists.\n",
    "\n",
    "They hold a grid of values, all of the same type, which can be accessed by indexing. In fact, the simplest way to initialize a numpy array is from a Python list using `np.array(LIST)`."
   ]
  },
  {
   "cell_type": "code",
   "execution_count": 5,
   "metadata": {
    "colab": {
     "base_uri": "https://localhost:8080/"
    },
    "executionInfo": {
     "elapsed": 9,
     "status": "ok",
     "timestamp": 1731475358102,
     "user": {
      "displayName": "Xiaoxiao Du",
      "userId": "14628540445372521466"
     },
     "user_tz": 300
    },
    "id": "-l3JrGxCL9hc",
    "outputId": "cc51c10f-049a-4b28-c39a-113f512b2d70"
   },
   "outputs": [
    {
     "name": "stdout",
     "output_type": "stream",
     "text": [
      "my_list: [1, 2, 3] \n",
      "\n",
      "my_nparray: [1 2 3] \n",
      "\n",
      "my_nparray_2: [1 2 3]\n"
     ]
    }
   ],
   "source": [
    "my_list = [1, 2, 3]  # A Python list initialized in the usual way\n",
    "print(\"my_list:\", my_list, \"\\n\")\n",
    "\n",
    "my_nparray = np.array([1, 2, 3])  # A numpy array initialized from a list directly\n",
    "print(\"my_nparray:\", my_nparray, \"\\n\")\n",
    "\n",
    "my_nparray_2 = np.array(my_list)  # We can also, of course, use an existing list variable\n",
    "print(\"my_nparray_2:\", my_nparray_2)"
   ]
  },
  {
   "cell_type": "markdown",
   "metadata": {
    "id": "8FGivPuufOAo"
   },
   "source": [
    "In this one dimensional form, they can be indexed in the same way as lists and appear very similar."
   ]
  },
  {
   "cell_type": "code",
   "execution_count": 6,
   "metadata": {
    "colab": {
     "base_uri": "https://localhost:8080/"
    },
    "executionInfo": {
     "elapsed": 8,
     "status": "ok",
     "timestamp": 1731475358102,
     "user": {
      "displayName": "Xiaoxiao Du",
      "userId": "14628540445372521466"
     },
     "user_tz": 300
    },
    "id": "ma6mk-kdL9hh",
    "outputId": "97197b6f-ff6b-48c6-bb7b-b119ecfa427d"
   },
   "outputs": [
    {
     "name": "stdout",
     "output_type": "stream",
     "text": [
      "my_list[1]: 2\n",
      "my_nparray[1]: 2\n"
     ]
    }
   ],
   "source": [
    "print(\"my_list[1]:\", my_list[1])  # Indexing the middle element in the list\n",
    "print(\"my_nparray[1]:\", my_nparray[1])  # The same operation for the np array"
   ]
  },
  {
   "cell_type": "markdown",
   "metadata": {
    "id": "u1t0u2R7gX87"
   },
   "source": [
    "The differences in use become more apparent as we move into 2 or more dimensional lists.\n",
    "\n"
   ]
  },
  {
   "cell_type": "markdown",
   "metadata": {
    "id": "f3iGJcdqusdC"
   },
   "source": [
    "We can initialize higher dimensional numpy arrays using nested lists. To examine the size of an array along each dimension we can access the `.shape` property."
   ]
  },
  {
   "cell_type": "code",
   "execution_count": 7,
   "metadata": {
    "colab": {
     "base_uri": "https://localhost:8080/"
    },
    "executionInfo": {
     "elapsed": 7,
     "status": "ok",
     "timestamp": 1731475358102,
     "user": {
      "displayName": "Xiaoxiao Du",
      "userId": "14628540445372521466"
     },
     "user_tz": 300
    },
    "id": "ymfSHAwtL9hj",
    "outputId": "72c13e46-dbbd-4e7a-dce1-8911d14c64e6"
   },
   "outputs": [
    {
     "name": "stdout",
     "output_type": "stream",
     "text": [
      "array_2D:\n",
      "[[1 2 3]\n",
      " [4 5 6]]\n",
      "\n",
      "array_2D.shape: (2, 3)\n",
      "(Length 2 along the first dimension, length 3 along the second dimension.)\n"
     ]
    }
   ],
   "source": [
    "array_2D = np.array([[1, 2, 3], [4, 5, 6]])  # We get 2D arrays from lists of lists\n",
    "print(\"array_2D:\")\n",
    "print(array_2D)\n",
    "\n",
    "print(\"\\narray_2D.shape:\", array_2D.shape)\n",
    "print(\"(Length 2 along the first dimension, length 3 along the second dimension.)\")"
   ]
  },
  {
   "cell_type": "code",
   "execution_count": 8,
   "metadata": {
    "colab": {
     "base_uri": "https://localhost:8080/"
    },
    "executionInfo": {
     "elapsed": 6,
     "status": "ok",
     "timestamp": 1731475358102,
     "user": {
      "displayName": "Xiaoxiao Du",
      "userId": "14628540445372521466"
     },
     "user_tz": 300
    },
    "id": "Kx2QAC7WFX7l",
    "outputId": "b9f7bc33-ea96-4c5b-e89a-02d85294b84a"
   },
   "outputs": [
    {
     "name": "stdout",
     "output_type": "stream",
     "text": [
      "array_3D:\n",
      "[[[ 1  2  3  4]\n",
      "  [ 5  6  7  8]]\n",
      "\n",
      " [[ 9 10 11 12]\n",
      "  [13 14 15 16]]\n",
      "\n",
      " [[17 18 19 20]\n",
      "  [21 22 23 24]]]\n",
      "\n",
      "array_3D.shape: (3, 2, 4)\n",
      "(Length 3 along the first dimension, length 2 along the second dimension, length 4 along the third dimension.)\n"
     ]
    }
   ],
   "source": [
    "array_3D = np.array([[[1, 2, 3, 4], [5, 6, 7, 8]],\n",
    "                     [[9, 10, 11, 12], [13, 14, 15, 16]],\n",
    "                     [[17, 18, 19, 20], [21, 22, 23, 24]]]) # We get 3D arrays from lists of lists of lists\n",
    "\n",
    "print(\"array_3D:\")\n",
    "print(array_3D)\n",
    "\n",
    "print(\"\\narray_3D.shape:\", array_3D.shape)\n",
    "print(\"(Length 3 along the first dimension, length 2 along the second dimension, \\\n",
    "length 4 along the third dimension.)\")"
   ]
  },
  {
   "cell_type": "markdown",
   "metadata": {
    "id": "8Hjw6osYkKe7"
   },
   "source": [
    "We can carry this on into any number of dimensions if we find it useful, although it is uncommon to see arrays above around 4 dimensions.\n",
    "\n"
   ]
  },
  {
   "cell_type": "markdown",
   "metadata": {
    "id": "_gSRzIaTukaa"
   },
   "source": [
    "Proper indexing for higher dimensions works a little differently from lists. We index using a tuple of indicies rather than repeated square brackets. Indexing with multiple square brackets *does* still work for numpy arrays, but is less readable and often considered bad form."
   ]
  },
  {
   "cell_type": "code",
   "execution_count": 9,
   "metadata": {
    "colab": {
     "base_uri": "https://localhost:8080/"
    },
    "executionInfo": {
     "elapsed": 6,
     "status": "ok",
     "timestamp": 1731475358102,
     "user": {
      "displayName": "Xiaoxiao Du",
      "userId": "14628540445372521466"
     },
     "user_tz": 300
    },
    "id": "KLV0EcC_n8Us",
    "outputId": "19a263d0-9054-4417-bc2c-58e53fd3dd05"
   },
   "outputs": [
    {
     "name": "stdout",
     "output_type": "stream",
     "text": [
      "array_2D[1][2]: 6\n",
      "array_2D[1, 2]: 6\n",
      "array_2D.shape: (2, 3)\n",
      "\n",
      "array_3D[1, 0, 3]: 12\n",
      "array_3D.shape: (3, 2, 4)\n",
      "\n",
      "Notice that the indexing tuples ((1, 2) and (1, 0, 3)) have the same number of \n",
      "values as the shapes. \n",
      "\n",
      "Again, this is because we are using one index on each dimension.\n"
     ]
    }
   ],
   "source": [
    "print(\"array_2D[1][2]:\", array_2D[1][2])  # accesing the second row, third column with repeated square brackets (PYTHON IS ZERO INDEXED!)\n",
    "print(\"array_2D[1, 2]:\", array_2D[1, 2])  # the same thing, but in the more readable numpy syntax\n",
    "print(\"array_2D.shape:\", array_2D.shape)\n",
    "\n",
    "print(\"\\narray_3D[1, 0, 3]:\", array_3D[1, 0, 3]) # we can do the same thing for higher dimensions\n",
    "print(\"array_3D.shape:\", array_3D.shape)\n",
    "\n",
    "print(\"\\nNotice that the indexing tuples ((1, 2) and (1, 0, 3)) have the same number of \\\n",
    "\\nvalues as the shapes. \\n\\nAgain, this is because we are using one index on each dimension.\")"
   ]
  },
  {
   "cell_type": "markdown",
   "metadata": {
    "id": "F2qwdyvuL9hn"
   },
   "source": [
    "This will allow you to access any single value from an array. In the next section, we'll look at indexing out multiple values from arrays.\n",
    "\n",
    "Before we do this, let's quickly look at some useful ways to initialize arrays, and then do an exercise."
   ]
  },
  {
   "cell_type": "code",
   "execution_count": 10,
   "metadata": {
    "colab": {
     "base_uri": "https://localhost:8080/"
    },
    "executionInfo": {
     "elapsed": 5,
     "status": "ok",
     "timestamp": 1731475358102,
     "user": {
      "displayName": "Xiaoxiao Du",
      "userId": "14628540445372521466"
     },
     "user_tz": 300
    },
    "id": "mVTN_EBqL9hn",
    "outputId": "10d6609f-fccc-41f3-bb18-6d09d564a8a3"
   },
   "outputs": [
    {
     "name": "stdout",
     "output_type": "stream",
     "text": [
      "[[0. 0.]\n",
      " [0. 0.]]\n"
     ]
    }
   ],
   "source": [
    "a = np.zeros((2,2))  # Create an array of all zeros with shape (2, 2)\n",
    "print(a)"
   ]
  },
  {
   "cell_type": "code",
   "execution_count": 11,
   "metadata": {
    "colab": {
     "base_uri": "https://localhost:8080/"
    },
    "executionInfo": {
     "elapsed": 6,
     "status": "ok",
     "timestamp": 1731475358103,
     "user": {
      "displayName": "Xiaoxiao Du",
      "userId": "14628540445372521466"
     },
     "user_tz": 300
    },
    "id": "skiKlNmlL9h5",
    "outputId": "6eb84703-5db1-4ce0-c319-ac07b23a634d"
   },
   "outputs": [
    {
     "name": "stdout",
     "output_type": "stream",
     "text": [
      "[[1. 1. 1. 1.]\n",
      " [1. 1. 1. 1.]\n",
      " [1. 1. 1. 1.]]\n"
     ]
    }
   ],
   "source": [
    "b = np.ones((3,4))   # Create an array of all ones with shape (3, 4)\n",
    "print(b)"
   ]
  },
  {
   "cell_type": "code",
   "execution_count": 12,
   "metadata": {
    "colab": {
     "base_uri": "https://localhost:8080/"
    },
    "executionInfo": {
     "elapsed": 5,
     "status": "ok",
     "timestamp": 1731475358103,
     "user": {
      "displayName": "Xiaoxiao Du",
      "userId": "14628540445372521466"
     },
     "user_tz": 300
    },
    "id": "HtFsr03bL9h7",
    "outputId": "8fc80354-76f5-45b2-aa35-606124b4adde"
   },
   "outputs": [
    {
     "name": "stdout",
     "output_type": "stream",
     "text": [
      "[[7 7]\n",
      " [7 7]]\n"
     ]
    }
   ],
   "source": [
    "c = np.full((2,2), 7) # Create a constant array of shape (2, 2) with values set to 7\n",
    "print(c)"
   ]
  },
  {
   "cell_type": "code",
   "execution_count": 13,
   "metadata": {
    "colab": {
     "base_uri": "https://localhost:8080/"
    },
    "executionInfo": {
     "elapsed": 5,
     "status": "ok",
     "timestamp": 1731475358103,
     "user": {
      "displayName": "Xiaoxiao Du",
      "userId": "14628540445372521466"
     },
     "user_tz": 300
    },
    "id": "-QcALHvkL9h9",
    "outputId": "c4ac36d1-f133-4c33-fd6c-67eb76e50fb2"
   },
   "outputs": [
    {
     "name": "stdout",
     "output_type": "stream",
     "text": [
      "[[1. 0.]\n",
      " [0. 1.]]\n"
     ]
    }
   ],
   "source": [
    "d = np.eye(2)        # Create a 2x2 identity matrix\n",
    "print(d)"
   ]
  },
  {
   "cell_type": "code",
   "execution_count": 14,
   "metadata": {
    "colab": {
     "base_uri": "https://localhost:8080/"
    },
    "executionInfo": {
     "elapsed": 4,
     "status": "ok",
     "timestamp": 1731475358103,
     "user": {
      "displayName": "Xiaoxiao Du",
      "userId": "14628540445372521466"
     },
     "user_tz": 300
    },
    "id": "RCpaYg9qL9iA",
    "outputId": "ad5676be-4f9f-4dfd-cfde-a675ba0544e0"
   },
   "outputs": [
    {
     "name": "stdout",
     "output_type": "stream",
     "text": [
      "[[0.96430391 0.90788667]\n",
      " [0.8381627  0.91919462]\n",
      " [0.62048048 0.59597549]\n",
      " [0.42561316 0.7284221 ]\n",
      " [0.42074813 0.25610879]]\n"
     ]
    }
   ],
   "source": [
    "e = np.random.random((5,2)) # Create an array filled with random values of shape (2, 2)\n",
    "print(e)"
   ]
  },
  {
   "cell_type": "markdown",
   "metadata": {
    "id": "JI-Ta9VGvNC4"
   },
   "source": [
    "##Exercise 1"
   ]
  },
  {
   "cell_type": "markdown",
   "metadata": {
    "id": "Rxi4VKihvTbv"
   },
   "source": [
    "Let's make an array!\n",
    "\n",
    "Create a four dimensional numpy array. The array should have:\n",
    "\n",
    "* dimension 1 of length 3\n",
    "\n",
    "* dimension 2 of length 4\n",
    "\n",
    "* dimension 3 of length 2\n",
    "\n",
    "* dimension 4 of length 6\n",
    "\n",
    "* all values set to 102.\n",
    "\n",
    "You should be able to do this in one short line (without writing out the entire equivalent list).\n",
    "\n",
    "*If your array prints and your code is one line, you did it right!*\n"
   ]
  },
  {
   "cell_type": "code",
   "execution_count": 15,
   "metadata": {
    "colab": {
     "base_uri": "https://localhost:8080/",
     "height": 216
    },
    "executionInfo": {
     "elapsed": 493,
     "status": "error",
     "timestamp": 1731475358592,
     "user": {
      "displayName": "Xiaoxiao Du",
      "userId": "14628540445372521466"
     },
     "user_tz": 300
    },
    "id": "FVroPFzRxjzp",
    "outputId": "344336aa-fe0a-4f73-a415-b6be7a7fc038"
   },
   "outputs": [
    {
     "ename": "AttributeError",
     "evalue": "'NoneType' object has no attribute 'shape'",
     "output_type": "error",
     "traceback": [
      "\u001b[0;31m---------------------------------------------------------------------------\u001b[0m",
      "\u001b[0;31mAttributeError\u001b[0m                            Traceback (most recent call last)",
      "\u001b[0;32m<ipython-input-15-6633b9c43b8a>\u001b[0m in \u001b[0;36m<cell line: 5>\u001b[0;34m()\u001b[0m\n\u001b[1;32m      3\u001b[0m \u001b[0;31m# HINT: take a look at the different initialization functions\u001b[0m\u001b[0;34m\u001b[0m\u001b[0;34m\u001b[0m\u001b[0m\n\u001b[1;32m      4\u001b[0m \u001b[0;34m\u001b[0m\u001b[0m\n\u001b[0;32m----> 5\u001b[0;31m assert(exercise_1_array.shape == (3,4,2,6) \\\n\u001b[0m\u001b[1;32m      6\u001b[0m        \u001b[0;32mand\u001b[0m \u001b[0mnp\u001b[0m\u001b[0;34m.\u001b[0m\u001b[0mmin\u001b[0m\u001b[0;34m(\u001b[0m\u001b[0mexercise_1_array\u001b[0m\u001b[0;34m)\u001b[0m \u001b[0;34m==\u001b[0m \u001b[0;36m102\u001b[0m\u001b[0;31m \u001b[0m\u001b[0;31m\\\u001b[0m\u001b[0;34m\u001b[0m\u001b[0;34m\u001b[0m\u001b[0m\n\u001b[1;32m      7\u001b[0m        and np.max(exercise_1_array) == 102)\n",
      "\u001b[0;31mAttributeError\u001b[0m: 'NoneType' object has no attribute 'shape'"
     ]
    }
   ],
   "source": [
    "exercise_1_array = None # TODO: change this line\n",
    "\n",
    "# HINT: take a look at the different initialization functions\n",
    "\n",
    "assert(exercise_1_array.shape == (3,4,2,6) \\\n",
    "       and np.min(exercise_1_array) == 102 \\\n",
    "       and np.max(exercise_1_array) == 102)\n",
    "print(exercise_1_array.shape)\n",
    "print(exercise_1_array)"
   ]
  },
  {
   "cell_type": "markdown",
   "metadata": {
    "id": "0ELpSrpgyZ1B"
   },
   "source": [
    "Now change the very last value in the array to 201 using indexing.\n",
    "\n",
    "*If you see that the bottom right value in the print out has changed to 201, you did it right!*"
   ]
  },
  {
   "cell_type": "code",
   "execution_count": null,
   "metadata": {
    "executionInfo": {
     "elapsed": 6,
     "status": "aborted",
     "timestamp": 1731475358592,
     "user": {
      "displayName": "Xiaoxiao Du",
      "userId": "14628540445372521466"
     },
     "user_tz": 300
    },
    "id": "atR-woANykpZ"
   },
   "outputs": [],
   "source": [
    "# TODO: add a line of code here\n",
    "\n",
    "\n",
    "\n",
    "print(exercise_1_array) # You should see the value changed in this print out"
   ]
  },
  {
   "cell_type": "markdown",
   "metadata": {
    "id": "jI5qcSDfL9iC"
   },
   "source": [
    "##Intro to Indexing Methods"
   ]
  },
  {
   "cell_type": "markdown",
   "metadata": {
    "id": "M-E4MUeVL9iC"
   },
   "source": [
    "In this section we will see some of the foundational indexing methods that allow us to select more complex arragements of the values in the arrays."
   ]
  },
  {
   "cell_type": "markdown",
   "metadata": {
    "id": "woy3pzd_QkuA"
   },
   "source": [
    "###Slicing"
   ]
  },
  {
   "cell_type": "markdown",
   "metadata": {
    "id": "QYv4JyIEL9iD"
   },
   "source": [
    "Similar to Python lists, numpy arrays can be sliced. As a quick reminder, we slice lists using the syntax `list[start:stop:step]` where `start` is inclusive, `stop` is exclusive. The default values are `start = 0`, `stop = list.length`, `step = 1` when nothing is specified. If the step value is negative then `start = -1` and `stop = -list.length - 1` so that something like `list[::-1]` is just the reverse of `list`.\n",
    "\n"
   ]
  },
  {
   "cell_type": "code",
   "execution_count": 16,
   "metadata": {
    "colab": {
     "base_uri": "https://localhost:8080/"
    },
    "executionInfo": {
     "elapsed": 261,
     "status": "ok",
     "timestamp": 1731475365781,
     "user": {
      "displayName": "Xiaoxiao Du",
      "userId": "14628540445372521466"
     },
     "user_tz": 300
    },
    "id": "R_JacuB-CTFG",
    "outputId": "f7d36f04-5513-49e4-8d50-577da928b5e1"
   },
   "outputs": [
    {
     "name": "stdout",
     "output_type": "stream",
     "text": [
      "my_list[::]: [2, 4, 6, 7, 9, 6]\n",
      "my_list[:]: [2, 4, 6, 7, 9, 6]\n"
     ]
    }
   ],
   "source": [
    "my_list = [2, 4, 6, 7, 9, 6]  # a simple list to do a few slices on\n",
    "\n",
    "print(\"my_list[::]:\", my_list[::])\n",
    "print(\"my_list[:]:\", my_list[:])  # these simply index the whole list (there's no reason to do either in practice)"
   ]
  },
  {
   "cell_type": "code",
   "execution_count": null,
   "metadata": {
    "executionInfo": {
     "elapsed": 5,
     "status": "aborted",
     "timestamp": 1731475358592,
     "user": {
      "displayName": "Xiaoxiao Du",
      "userId": "14628540445372521466"
     },
     "user_tz": 300
    },
    "id": "w21X1Mz7FHL7"
   },
   "outputs": [],
   "source": [
    "print(\"my_list[1::2]:\", my_list[1::2])  # starting the index at index one and steping by two until the end"
   ]
  },
  {
   "cell_type": "code",
   "execution_count": null,
   "metadata": {
    "executionInfo": {
     "elapsed": 5,
     "status": "aborted",
     "timestamp": 1731475358592,
     "user": {
      "displayName": "Xiaoxiao Du",
      "userId": "14628540445372521466"
     },
     "user_tz": 300
    },
    "id": "REqEb-V_Fi_m"
   },
   "outputs": [],
   "source": [
    "print(\"my_list[1::2]:\", my_list[2:5]) # getting the list of values from indexes 2, 3, and 4"
   ]
  },
  {
   "cell_type": "code",
   "execution_count": null,
   "metadata": {
    "executionInfo": {
     "elapsed": 5,
     "status": "aborted",
     "timestamp": 1731475358592,
     "user": {
      "displayName": "Xiaoxiao Du",
      "userId": "14628540445372521466"
     },
     "user_tz": 300
    },
    "id": "Hr6aCyiKF_IK"
   },
   "outputs": [],
   "source": [
    "print(\"my_list[::-1]:\", my_list[::-1])  # reversing the list"
   ]
  },
  {
   "cell_type": "markdown",
   "metadata": {
    "id": "avb8MXtFCThJ"
   },
   "source": [
    "For np arrays, we slice with a tuple of `start:stop:step` indications to specify the slice along each dimension."
   ]
  },
  {
   "cell_type": "code",
   "execution_count": null,
   "metadata": {
    "executionInfo": {
     "elapsed": 5,
     "status": "aborted",
     "timestamp": 1731475358592,
     "user": {
      "displayName": "Xiaoxiao Du",
      "userId": "14628540445372521466"
     },
     "user_tz": 300
    },
    "id": "wLWA0udwL9iD"
   },
   "outputs": [],
   "source": [
    "a = np.array([[1,2,3,4], [5,6,7,8], [9,10,11,12]])  # example 3x4 np array for slicing\n",
    "print(\"a:\\n\")\n",
    "print(a)\n",
    "\n",
    "b = a[:2, 1:3]\n",
    "print(\"\\na[:2, 1:3]:\\n\")  # slicing out row 0 and 1, and column 1 and 2.\n",
    "print(b)"
   ]
  },
  {
   "cell_type": "markdown",
   "metadata": {
    "id": "KahhtZKYL9iF"
   },
   "source": [
    "It's important to note that a slice of an array is accessing the same data, so changing the slice will change the array and vice versa."
   ]
  },
  {
   "cell_type": "code",
   "execution_count": null,
   "metadata": {
    "executionInfo": {
     "elapsed": 5,
     "status": "aborted",
     "timestamp": 1731475358592,
     "user": {
      "displayName": "Xiaoxiao Du",
      "userId": "14628540445372521466"
     },
     "user_tz": 300
    },
    "id": "1kmtaFHuL9iG"
   },
   "outputs": [],
   "source": [
    "print(a[0, 1])\n",
    "b[0, 0] = 77  # b[0, 0] is the same piece of data as a[0, 1]\n",
    "print(a[0, 1])  # we will see that the value has changed"
   ]
  },
  {
   "cell_type": "markdown",
   "metadata": {
    "id": "kekVpZmeRC4M"
   },
   "source": [
    "###Mixing Integer Indexing and Slicing"
   ]
  },
  {
   "cell_type": "markdown",
   "metadata": {
    "id": "_Zcf3zi-L9iI"
   },
   "source": [
    "We have seen indexing with a tuple of integers or a tuple of slices. In this section we will look at indexing with a tuple containing both integers and slices."
   ]
  },
  {
   "cell_type": "markdown",
   "metadata": {
    "id": "-jCLrSvSdj-h"
   },
   "source": [
    "When you index with an integer along a given dimension it will index as expected, but that dimension will not show up as a dimension in the output array's shape.\n",
    "\n",
    "Essentially the values captured will be what you expect, but the shape will be one dimension less than that of the array you indexed from. This is *confusing*, so let's look at some examples to clarify."
   ]
  },
  {
   "cell_type": "code",
   "execution_count": null,
   "metadata": {
    "executionInfo": {
     "elapsed": 5,
     "status": "aborted",
     "timestamp": 1731475358592,
     "user": {
      "displayName": "Xiaoxiao Du",
      "userId": "14628540445372521466"
     },
     "user_tz": 300
    },
    "id": "G6lfbPuxL9iJ"
   },
   "outputs": [],
   "source": [
    "a = np.array([[1,2,3,4], [5,6,7,8], [9,10,11,12]])  # resetting the previous 3x4 example array\n",
    "\n",
    "# two ways to grab the middle row:\n",
    "\n",
    "middle_row_sliced = a[1:2, :] # using all slices will return middle row in a 2D array\n",
    "print(\"two slices:\", middle_row_sliced)\n",
    "print(\"shape:\", middle_row_sliced.shape)\n",
    "\n",
    "middle_row_int_slice = a[1, :] # using one integer and one slice will return middle row in a 1D array\n",
    "print(\"\\nint index and slice:\", middle_row_int_slice)\n",
    "print(\"shape:\", middle_row_int_slice.shape)"
   ]
  },
  {
   "cell_type": "markdown",
   "metadata": {
    "id": "FWmxb5SSYNbn"
   },
   "source": [
    "Notice how the dimension we integer indexed into has been removed from the shape. (We used an integer on dimension 1 in the second method.)"
   ]
  },
  {
   "cell_type": "markdown",
   "metadata": {
    "id": "8iJiFyCgYZdq"
   },
   "source": [
    "Notably, if we want integer indexing to behave like slicing, we can wrap the integer in square brackets:"
   ]
  },
  {
   "cell_type": "code",
   "execution_count": null,
   "metadata": {
    "executionInfo": {
     "elapsed": 5,
     "status": "aborted",
     "timestamp": 1731475358592,
     "user": {
      "displayName": "Xiaoxiao Du",
      "userId": "14628540445372521466"
     },
     "user_tz": 300
    },
    "id": "d5xAtgLLYYaL"
   },
   "outputs": [],
   "source": [
    "middle_row_2D_int_slice = a[[1], :] # this is equivalent to using two slices, as in the first method above\n",
    "print(\"2D int slice:\", middle_row_2D_int_slice)\n",
    "print(\"shape:\", middle_row_2D_int_slice.shape)"
   ]
  },
  {
   "cell_type": "markdown",
   "metadata": {
    "id": "NCye3NXhL9iL"
   },
   "source": [
    "If we do something similar but using an integer to index a column, we predict that the second dimension will now be dropped from the shape. This has the side affect of making the column print in a \"horizontal orientation\" since it just pulls out a 1D array.\n",
    "\n",
    "The lesson here to always think about what the shape will be when we use integer indexing -- we wouldn't want any surprises."
   ]
  },
  {
   "cell_type": "code",
   "execution_count": null,
   "metadata": {
    "executionInfo": {
     "elapsed": 6,
     "status": "aborted",
     "timestamp": 1731475358593,
     "user": {
      "displayName": "Xiaoxiao Du",
      "userId": "14628540445372521466"
     },
     "user_tz": 300
    },
    "id": "JXu73pfDL9iN"
   },
   "outputs": [],
   "source": [
    "# two ways to grab the middle column\n",
    "\n",
    "col_sliced = a[:, 1:2]  # using all slices to get the column will give a 2D array\n",
    "print(\"two slices:\")\n",
    "print(col_sliced)\n",
    "print(\"shape\", col_sliced.shape)\n",
    "\n",
    "\n",
    "col_int_sliced = a[:, 1]  # using an integer in the second dimension will remove dimension 2 from the original space\n",
    "print(\"\\nint index and slice:\")\n",
    "print(col_int_sliced)\n",
    "print(\"shape:\", col_int_sliced.shape)"
   ]
  },
  {
   "cell_type": "markdown",
   "metadata": {
    "id": "7EuDQytve--r"
   },
   "source": [
    "###Integer Array Indexing"
   ]
  },
  {
   "cell_type": "markdown",
   "metadata": {
    "id": "VP3916bOL9iP"
   },
   "source": [
    "Integer array indexing uses an array of indicies we want to index into for each dimension. It's a pretty intuitive method that allows us to cherry pick values from an existing array.\n",
    "\n"
   ]
  },
  {
   "cell_type": "code",
   "execution_count": null,
   "metadata": {
    "executionInfo": {
     "elapsed": 5,
     "status": "aborted",
     "timestamp": 1731475358593,
     "user": {
      "displayName": "Xiaoxiao Du",
      "userId": "14628540445372521466"
     },
     "user_tz": 300
    },
    "id": "TBnWonIDL9iP"
   },
   "outputs": [],
   "source": [
    "print(\"a:\")\n",
    "print(a, \"\\n\")\n",
    "\n",
    "# This is integer indexing with an array of row values and an array of column values.\n",
    "print(a[[0, 1, 2], [0, 1, 0]])\n",
    "\n",
    "# Thus the above is equivalent to the array constructed element-wise below\n",
    "print([a[0, 0], a[1, 1], a[2, 0]])"
   ]
  },
  {
   "cell_type": "markdown",
   "metadata": {
    "id": "WcpIaSwuh_W6"
   },
   "source": [
    "Slicing should be used if the indexes are in a strictly sequential pattern because it is faster to write. This means we should only use integer indexing when the indecies we want aren't in a uniform order."
   ]
  },
  {
   "cell_type": "markdown",
   "metadata": {
    "id": "rDduBPXQRJe4"
   },
   "source": [
    "###Boolean Indexing"
   ]
  },
  {
   "cell_type": "markdown",
   "metadata": {
    "id": "kaE8dBGgL9id"
   },
   "source": [
    "Boolean array indexing is a powerful way to pick out all of the elements of an array that satisfy some condition. It is done by using a logical operator directly on an array variable:"
   ]
  },
  {
   "cell_type": "code",
   "execution_count": null,
   "metadata": {
    "executionInfo": {
     "elapsed": 1702,
     "status": "aborted",
     "timestamp": 1731475358593,
     "user": {
      "displayName": "Xiaoxiao Du",
      "userId": "14628540445372521466"
     },
     "user_tz": 300
    },
    "id": "32PusjtKL9id"
   },
   "outputs": [],
   "source": [
    "bool_idx = a > 5  # the '>' performs boolean indexing since a python knows a is an array\n",
    "print(\"a:\")\n",
    "print(a)\n",
    "\n",
    "print(\"\\na > 5:\")\n",
    "print(bool_idx)"
   ]
  },
  {
   "cell_type": "markdown",
   "metadata": {
    "id": "-toQQcdMljji"
   },
   "source": [
    "We see that the output array has the same shape, with True everywhere the condition is satisfied and False otherwise.\n",
    "\n",
    "This output array can then be used to index back into the original arrays to get a 1D array of all the values where the condition was satisfied:"
   ]
  },
  {
   "cell_type": "code",
   "execution_count": null,
   "metadata": {
    "executionInfo": {
     "elapsed": 1701,
     "status": "aborted",
     "timestamp": 1731475358593,
     "user": {
      "displayName": "Xiaoxiao Du",
      "userId": "14628540445372521466"
     },
     "user_tz": 300
    },
    "id": "cb2IRMXaL9if"
   },
   "outputs": [],
   "source": [
    "print(a[bool_idx])  # getting a list of all values in a where bool_idx is True\n",
    "\n",
    "print(a[a > 5]) # equivalently getting a list of all values > 5 in a, with a smooth one-liner (Python is awesome!)"
   ]
  },
  {
   "cell_type": "markdown",
   "metadata": {
    "id": "CdofMonAL9ih"
   },
   "source": [
    "We've covered some of the most common methods of array indexing here, and they'll be more than enough for ROB 102.\n",
    "\n",
    "It's important to note, however, that there are a lot more tricks out there as Python is a truly complicated language."
   ]
  },
  {
   "cell_type": "markdown",
   "metadata": {
    "id": "0vnDOe273a9V"
   },
   "source": [
    "##Exercise 2"
   ]
  },
  {
   "cell_type": "markdown",
   "metadata": {
    "id": "LF4Wd_pe3eSl"
   },
   "source": [
    "Let's do an indexing exercise!\n",
    "\n",
    "Let's start with a random 2D array with shape (12, 12):"
   ]
  },
  {
   "cell_type": "code",
   "execution_count": null,
   "metadata": {
    "executionInfo": {
     "elapsed": 1701,
     "status": "aborted",
     "timestamp": 1731475358593,
     "user": {
      "displayName": "Xiaoxiao Du",
      "userId": "14628540445372521466"
     },
     "user_tz": 300
    },
    "id": "X-mv1GMeN1Pa"
   },
   "outputs": [],
   "source": [
    "mat = np.random.random((12, 12))\n",
    "print(mat)\n",
    "# Wow, that's a lot of output. Click the button in the top right of the output box to clear it."
   ]
  },
  {
   "cell_type": "markdown",
   "metadata": {
    "id": "i4DAM76uN1pH"
   },
   "source": [
    "Use slicing to get the lower left quarter of the 12 by 12 as a 2D array. This should only take one line.\n",
    "\n",
    "*If your code is one line and your matrix prints, you did it right!*"
   ]
  },
  {
   "cell_type": "code",
   "execution_count": null,
   "metadata": {
    "executionInfo": {
     "elapsed": 1700,
     "status": "aborted",
     "timestamp": 1731475358593,
     "user": {
      "displayName": "Xiaoxiao Du",
      "userId": "14628540445372521466"
     },
     "user_tz": 300
    },
    "id": "PZzYBbB0UE_I"
   },
   "outputs": [],
   "source": [
    "lower_left = None # TODO: change this line\n",
    "\n",
    "# yes we are just checking a few values, but it should be sufficient if you are in fact using slicing\n",
    "assert(lower_left[0, 0] == mat[6, 0] and lower_left[4, 3] == mat[10, 3] and lower_left[5, 4] == mat[11, 4])\n",
    "print(lower_left)"
   ]
  },
  {
   "cell_type": "markdown",
   "metadata": {
    "id": "TuB-fdhIL9ik"
   },
   "source": [
    "##Intro to Array Math\n"
   ]
  },
  {
   "cell_type": "markdown",
   "metadata": {
    "id": "18e8V8elL9ik"
   },
   "source": [
    "A big part of why numpy arrays are so useful is the support for math operations on the arrays. These operations make the math both compact to write, and fast to execute on run time."
   ]
  },
  {
   "cell_type": "markdown",
   "metadata": {
    "id": "LlDCasnu22eo"
   },
   "source": [
    "###Element-wise Math"
   ]
  },
  {
   "cell_type": "markdown",
   "metadata": {
    "id": "u2P8o1h5n1Wi"
   },
   "source": [
    "The simplest and most common methods of array math are element wise operations.\n",
    "\n",
    "We can add, subtract, multiply, divide, and do many other arithmetic operations of arrays of the same shape:"
   ]
  },
  {
   "cell_type": "code",
   "execution_count": null,
   "metadata": {
    "executionInfo": {
     "elapsed": 1699,
     "status": "aborted",
     "timestamp": 1731475358593,
     "user": {
      "displayName": "Xiaoxiao Du",
      "userId": "14628540445372521466"
     },
     "user_tz": 300
    },
    "id": "gHKvBrSKL9il"
   },
   "outputs": [],
   "source": [
    "x = np.array([[1,2],[3,4]], dtype=np.float64) # This 'dtype=' syntax just sets the values to stored in a certain variable type.\n",
    "y = np.array([[5,6],[7,8]], dtype=np.float64) # In this case we use 64-bit floats because we want to do some precise arithmetic.\n",
    "\n",
    "print(\"x:\")\n",
    "print(x, \"\\n\")\n",
    "print(\"y:\")\n",
    "print(y, \"\\n\")\n",
    "\n",
    "# two equivalent methods for elementwise addition\n",
    "print(\"x + y:\")\n",
    "print(x + y, \"\\n\")\n",
    "print(\"np.add(x, y):\")\n",
    "print(np.add(x, y))"
   ]
  },
  {
   "cell_type": "code",
   "execution_count": null,
   "metadata": {
    "executionInfo": {
     "elapsed": 1699,
     "status": "aborted",
     "timestamp": 1731475358593,
     "user": {
      "displayName": "Xiaoxiao Du",
      "userId": "14628540445372521466"
     },
     "user_tz": 300
    },
    "id": "1fZtIAMxL9in"
   },
   "outputs": [],
   "source": [
    "# two equivalent methods for elementwise subtraction\n",
    "print(x - y)\n",
    "print(np.subtract(x, y))"
   ]
  },
  {
   "cell_type": "code",
   "execution_count": null,
   "metadata": {
    "executionInfo": {
     "elapsed": 1698,
     "status": "aborted",
     "timestamp": 1731475358593,
     "user": {
      "displayName": "Xiaoxiao Du",
      "userId": "14628540445372521466"
     },
     "user_tz": 300
    },
    "id": "nil4AScML9io"
   },
   "outputs": [],
   "source": [
    "# two equivalent methods for elementwise multiplication\n",
    "print(x * y)\n",
    "print(np.multiply(x, y))"
   ]
  },
  {
   "cell_type": "code",
   "execution_count": null,
   "metadata": {
    "executionInfo": {
     "elapsed": 1699,
     "status": "aborted",
     "timestamp": 1731475358594,
     "user": {
      "displayName": "Xiaoxiao Du",
      "userId": "14628540445372521466"
     },
     "user_tz": 300
    },
    "id": "0JoA4lH6L9ip"
   },
   "outputs": [],
   "source": [
    "# two equivalent methods for elementwise division\n",
    "print(x / y)\n",
    "print(np.divide(x, y))"
   ]
  },
  {
   "cell_type": "code",
   "execution_count": null,
   "metadata": {
    "executionInfo": {
     "elapsed": 1698,
     "status": "aborted",
     "timestamp": 1731475358594,
     "user": {
      "displayName": "Xiaoxiao Du",
      "userId": "14628540445372521466"
     },
     "user_tz": 300
    },
    "id": "g0iZuA6bL9ir"
   },
   "outputs": [],
   "source": [
    "# element-wise square root\n",
    "print(np.sqrt(x))"
   ]
  },
  {
   "cell_type": "markdown",
   "metadata": {
    "id": "ni9Emcz627w7"
   },
   "source": [
    "###Math Along Axes"
   ]
  },
  {
   "cell_type": "markdown",
   "metadata": {
    "id": "a5d_uujuL9it"
   },
   "source": [
    "As you might imagine, there are also functions that do math with the elements inside one array. There are tons of these that work on the same basic principle, so for now we'll just look at adding elements together using the sum function:"
   ]
  },
  {
   "cell_type": "code",
   "execution_count": null,
   "metadata": {
    "executionInfo": {
     "elapsed": 1697,
     "status": "aborted",
     "timestamp": 1731475358594,
     "user": {
      "displayName": "Xiaoxiao Du",
      "userId": "14628540445372521466"
     },
     "user_tz": 300
    },
    "id": "DZUdZvPrL9i0"
   },
   "outputs": [],
   "source": [
    "# making sure we have the a 3D_array initialized\n",
    "array_3D = np.array([[[1, 2, 3, 4], [5, 6, 7, 8]],\n",
    "                     [[9, 10, 11, 12], [13, 14, 15, 16]],\n",
    "                     [[17, 18, 19, 20], [21, 22, 23, 24]]])\n",
    "print(\"array_3D:\")\n",
    "print(array_3D, \"\\n\")\n",
    "print(\"array_3D.shape:\", array_3D.shape)"
   ]
  },
  {
   "cell_type": "code",
   "execution_count": null,
   "metadata": {
    "executionInfo": {
     "elapsed": 4,
     "status": "aborted",
     "timestamp": 1731475358867,
     "user": {
      "displayName": "Xiaoxiao Du",
      "userId": "14628540445372521466"
     },
     "user_tz": 300
    },
    "id": "hj2GDL1AvYSo"
   },
   "outputs": [],
   "source": [
    "# summing all the elements in the array\n",
    "print(np.sum(array_3D))"
   ]
  },
  {
   "cell_type": "markdown",
   "metadata": {
    "id": "9Z5LvwZ0vxKQ"
   },
   "source": [
    "Summing all the elements is simple. However the sum function also supports adding along different \"axes\" using the `axis=` keyword argument.\n",
    "\n",
    "Axes correspond to dimensions but are 0 indexed, while dimensions are 1 indexed. A 3D array has dimensions 1, 2, and 3 and corresponding axes 0, 1, and 2.\n",
    "\n",
    "Doing an operation along axis `n` is equivalent to doing it for every index in the `n+1`th dimension. This is a *difficult* concept, take your time with the example."
   ]
  },
  {
   "cell_type": "code",
   "execution_count": null,
   "metadata": {
    "executionInfo": {
     "elapsed": 3,
     "status": "aborted",
     "timestamp": 1731475358867,
     "user": {
      "displayName": "Xiaoxiao Du",
      "userId": "14628540445372521466"
     },
     "user_tz": 300
    },
    "id": "PdU-wtLYyxWZ"
   },
   "outputs": [],
   "source": [
    "# element wise of each of the arrays returned by indexing into the first dimension\n",
    "sum_along_dim1 = np.sum(array_3D, axis=0)\n",
    "\n",
    "print(sum_along_dim1)\n",
    "print(\"\\nshape:\", sum_along_dim1.shape) # the shape will be the shape of the dim 2 and dim 3 (the ones not added along)\n",
    "print(\"shape of 3D array:\", array_3D.shape)"
   ]
  },
  {
   "cell_type": "code",
   "execution_count": null,
   "metadata": {
    "executionInfo": {
     "elapsed": 3,
     "status": "aborted",
     "timestamp": 1731475358867,
     "user": {
      "displayName": "Xiaoxiao Du",
      "userId": "14628540445372521466"
     },
     "user_tz": 300
    },
    "id": "T56v0nBC0ezn"
   },
   "outputs": [],
   "source": [
    "# element wise of each of the arrays returned by indexing into the second dimension\n",
    "sum_along_dim1 = np.sum(array_3D, axis=1)\n",
    "\n",
    "print(sum_along_dim1)\n",
    "print(\"\\nshape:\", sum_along_dim1.shape) # the shape will be the shape of the dim 1 and dim 3 (the ones not added along)\n",
    "print(\"shape of 3D array:\", array_3D.shape)"
   ]
  },
  {
   "cell_type": "code",
   "execution_count": null,
   "metadata": {
    "executionInfo": {
     "elapsed": 3,
     "status": "aborted",
     "timestamp": 1731475358867,
     "user": {
      "displayName": "Xiaoxiao Du",
      "userId": "14628540445372521466"
     },
     "user_tz": 300
    },
    "id": "hVr6alAL0xaB"
   },
   "outputs": [],
   "source": [
    "# element wise of each of the arrays returned by indexing into the third dimension\n",
    "sum_along_dim1 = np.sum(array_3D, axis=2)\n",
    "\n",
    "print(sum_along_dim1)\n",
    "print(\"\\nshape:\", sum_along_dim1.shape) # the shape will be the shape of the dim 1 and dim 2 (the ones not added along)\n",
    "print(\"shape of 3D array:\", array_3D.shape)"
   ]
  },
  {
   "cell_type": "markdown",
   "metadata": {
    "id": "c2C7PhZS1c5S"
   },
   "source": [
    "Make sure you note how selecting the axis affects the shape (as described in the comments)."
   ]
  },
  {
   "cell_type": "markdown",
   "metadata": {
    "id": "DadV3jij0-Xq"
   },
   "source": [
    "Again, this is a tough concept so take a second here. The `axis=` keyword argument is common to many math functions and frequently misunderstood. After understanding it, you'll be a step ahead of most python beginners."
   ]
  },
  {
   "cell_type": "markdown",
   "metadata": {
    "id": "kQ0wfVcj3FPq"
   },
   "source": [
    "###Matrix Multiplication"
   ]
  },
  {
   "cell_type": "markdown",
   "metadata": {
    "id": "e6ypUxFq3Pfr"
   },
   "source": [
    "We're aware that linear algebra is not a pre-requisite for this course, so in this section we'll briefly describe the matrix in its numpy array form, and show the numpy function for matrix multiplication."
   ]
  },
  {
   "cell_type": "markdown",
   "metadata": {
    "id": "wD9iT-Qb3xRY"
   },
   "source": [
    "In Python, we can just think of matrices as 2D arrays of numbers. We'll call them \"n by m\" matrices, where \"n\" is the number of rows and \"m\" is the number of columns."
   ]
  },
  {
   "cell_type": "code",
   "execution_count": null,
   "metadata": {
    "executionInfo": {
     "elapsed": 3,
     "status": "aborted",
     "timestamp": 1731475358867,
     "user": {
      "displayName": "Xiaoxiao Du",
      "userId": "14628540445372521466"
     },
     "user_tz": 300
    },
    "id": "ynjC2Jh54Emn"
   },
   "outputs": [],
   "source": [
    "matrix_2x3 = np.array([[1, 2, 3], [4, 5, 6]])\n",
    "matrix_3x2 = np.array([[1, 2], [3, 4], [5, 6]])\n",
    "\n",
    "print(\"2 by 3 matrix\")\n",
    "print(matrix_2x3, \"\\n\")\n",
    "print(\"3 by 2 matrix\")\n",
    "print(matrix_3x2)"
   ]
  },
  {
   "cell_type": "markdown",
   "metadata": {
    "id": "TOY_mrhK5erL"
   },
   "source": [
    "In this class, we'll let numpy do the matrix multiplication for us. The one important thing to note is that two matrices can only be multiplied if the inner dimensions of the product are the same. The product will then take on the outer dimensions of the multiplied matrices.\n",
    "\n",
    "n x m $\\cdot$ m x p $=$ n x p"
   ]
  },
  {
   "cell_type": "code",
   "execution_count": null,
   "metadata": {
    "executionInfo": {
     "elapsed": 3,
     "status": "aborted",
     "timestamp": 1731475358867,
     "user": {
      "displayName": "Xiaoxiao Du",
      "userId": "14628540445372521466"
     },
     "user_tz": 300
    },
    "id": "r498vlI36VSy"
   },
   "outputs": [],
   "source": [
    "print(\"2 by 3 matrix times 3 by 2 matrix:\")\n",
    "print(np.dot(matrix_2x3, matrix_3x2)) # The inner dimensions are both 3 so we can take the product.\n",
    "                                      # The outer dimensions are both 2 so we get a 2x2 matrix output."
   ]
  },
  {
   "cell_type": "code",
   "execution_count": null,
   "metadata": {
    "executionInfo": {
     "elapsed": 3,
     "status": "aborted",
     "timestamp": 1731475358867,
     "user": {
      "displayName": "Xiaoxiao Du",
      "userId": "14628540445372521466"
     },
     "user_tz": 300
    },
    "id": "gRzpljsg6_5x"
   },
   "outputs": [],
   "source": [
    "print(\"3 by 2 matrix times 2 by 3 matrix:\")\n",
    "print(np.dot(matrix_3x2, matrix_2x3)) # The inner dimensions are both 2 so we can take the product.\n",
    "                                      # The outer dimensions are both 3 so we get a 2x2 matrix output."
   ]
  },
  {
   "cell_type": "markdown",
   "metadata": {
    "id": "yP7jZY_H7OGs"
   },
   "source": [
    "Note that the outer dimensions don't have to be equal to take the product, only the inner dimensions."
   ]
  },
  {
   "cell_type": "markdown",
   "metadata": {
    "id": "mmXHBw4a7Ypq"
   },
   "source": [
    "Finally, it's good to know that numpy provides a few different ways to take this product:"
   ]
  },
  {
   "cell_type": "code",
   "execution_count": null,
   "metadata": {
    "executionInfo": {
     "elapsed": 3,
     "status": "aborted",
     "timestamp": 1731475358867,
     "user": {
      "displayName": "Xiaoxiao Du",
      "userId": "14628540445372521466"
     },
     "user_tz": 300
    },
    "id": "8c-5RsvG7qW0"
   },
   "outputs": [],
   "source": [
    "print(np.dot(matrix_3x2, matrix_2x3), \"\\n\") # we've already seen this method\n",
    "\n",
    "print(matrix_3x2.dot(matrix_2x3), \"\\n\") # a similar way of accessing the np.dot() function\n",
    "\n",
    "print(matrix_3x2 @ matrix_2x3, \"\\n\")  # an abreviated (and often very handy) method to call the same function"
   ]
  },
  {
   "cell_type": "markdown",
   "metadata": {
    "id": "MrKMdPfz8tRc"
   },
   "source": [
    "This is a pretty good foundation for numpy math.\n"
   ]
  },
  {
   "cell_type": "markdown",
   "metadata": {
    "id": "ahdVW4iUL9i3"
   },
   "source": [
    "As always, there is much more to learn. You can find the full list of mathematical functions provided by numpy in the [documentation](http://docs.scipy.org/doc/numpy/reference/routines.math.html)."
   ]
  },
  {
   "cell_type": "markdown",
   "metadata": {
    "id": "uHma0xSQ4g5V"
   },
   "source": [
    "##Exercise 3"
   ]
  },
  {
   "cell_type": "markdown",
   "metadata": {
    "id": "We36UxlF4k0Y"
   },
   "source": [
    "Let's do a little array math!\n",
    "\n",
    "Take the following matrices defined as 2D numpy arrays:"
   ]
  },
  {
   "cell_type": "code",
   "execution_count": null,
   "metadata": {
    "executionInfo": {
     "elapsed": 3,
     "status": "aborted",
     "timestamp": 1731475358867,
     "user": {
      "displayName": "Xiaoxiao Du",
      "userId": "14628540445372521466"
     },
     "user_tz": 300
    },
    "id": "zf1qPRy8OZT3"
   },
   "outputs": [],
   "source": [
    "matrix_1 = np.full((4, 7), 1)\n",
    "matrix_2 = np.full((3, 4), 2)\n",
    "matrix_3 = np.full((7, 9), 3)\n",
    "matrix_4 = np.full((2, 4), 4)\n",
    "matrix_5 = np.full((9, 3), 5)\n",
    "##print(matrix_1)"
   ]
  },
  {
   "cell_type": "markdown",
   "metadata": {
    "id": "jzsCvgJkOZe0"
   },
   "source": [
    "Write a valid matrix product that multiplies all five of these matrices together. (The point of this question is figuring out the right order to multiply the matrices and using the numpy matrix multiply operator.)\n",
    "\n",
    "*If your product prints, then you did it right!*"
   ]
  },
  {
   "cell_type": "code",
   "execution_count": null,
   "metadata": {
    "executionInfo": {
     "elapsed": 3,
     "status": "aborted",
     "timestamp": 1731475358867,
     "user": {
      "displayName": "Xiaoxiao Du",
      "userId": "14628540445372521466"
     },
     "user_tz": 300
    },
    "id": "K2TJJoQiYKKL"
   },
   "outputs": [],
   "source": [
    "\n",
    "matrix_product = None # TODO: change this line\n",
    "\n",
    "# HINT: Look at the dimensions. Think about what matrix has to be all the way on the left of the product.\n",
    "# note: output 2x4\n",
    "#     matrix_4 * matrix_1 * matrix_3 * matrix_5 * matrix_2\n",
    "\n",
    "correct_output = np.full((2,4), 90720)\n",
    "assert(matrix_product.all() == correct_output.all())\n",
    "print(matrix_product)"
   ]
  },
  {
   "cell_type": "markdown",
   "metadata": {
    "id": "0R3PQzREbB5A"
   },
   "source": [
    "Now use the sum function to get a 2 long array in one line.\n",
    "\n",
    "*If your 2 long array prints, then you did it right!*"
   ]
  },
  {
   "cell_type": "code",
   "execution_count": null,
   "metadata": {
    "executionInfo": {
     "elapsed": 3,
     "status": "aborted",
     "timestamp": 1731475358867,
     "user": {
      "displayName": "Xiaoxiao Du",
      "userId": "14628540445372521466"
     },
     "user_tz": 300
    },
    "id": "Gv9hXIGNbZjm"
   },
   "outputs": [],
   "source": [
    "sum_of_matrix = None  # TODO: change this line\n",
    "\n",
    "correct_output = np.full((1,2), 362880)\n",
    "assert(sum_of_matrix.all() == correct_output.all())\n",
    "print(sum_of_matrix)"
   ]
  }
 ],
 "metadata": {
  "colab": {
   "provenance": [
    {
     "file_id": "https://github.com/cs231n/cs231n.github.io/blob/master/python-colab.ipynb",
     "timestamp": 1668783449250
    }
   ]
  },
  "kernelspec": {
   "display_name": "Python 3",
   "language": "python",
   "name": "python3"
  },
  "language_info": {
   "codemirror_mode": {
    "name": "ipython",
    "version": 3
   },
   "file_extension": ".py",
   "mimetype": "text/x-python",
   "name": "python",
   "nbconvert_exporter": "python",
   "pygments_lexer": "ipython3",
   "version": "3.9.6"
  }
 },
 "nbformat": 4,
 "nbformat_minor": 0
}
